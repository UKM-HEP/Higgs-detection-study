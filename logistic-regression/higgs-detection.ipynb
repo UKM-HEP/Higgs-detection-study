{
 "cells": [
  {
   "cell_type": "code",
   "execution_count": 17,
   "id": "556a5769",
   "metadata": {},
   "outputs": [],
   "source": [
    "# Importing libraries\n",
    "import time, psutil, os, math\n",
    "from tqdm.contrib import itertools\n",
    "import numpy as np\n",
    "import pandas as pd\n",
    "import matplotlib.pyplot as plt\n",
    "import seaborn as sns\n",
    "sns.set_theme()\n",
    "from sklearn.model_selection import train_test_split\n",
    "\n",
    "# import function from notebook\n",
    "from ipynb.fs.full.logreg import grad_desc, logistic"
   ]
  },
  {
   "cell_type": "code",
   "execution_count": 2,
   "id": "b8db1784",
   "metadata": {},
   "outputs": [],
   "source": [
    "# Runtime and memory usage\n",
    "start = time.time()\n",
    "process = psutil.Process(os.getpid())"
   ]
  },
  {
   "cell_type": "code",
   "execution_count": 3,
   "id": "f6512a67",
   "metadata": {},
   "outputs": [
    {
     "name": "stdout",
     "output_type": "stream",
     "text": [
      "Memory usage       62.9426 MB\n",
      "Dataset shape    (250000, 33)\n"
     ]
    },
    {
     "data": {
      "text/html": [
       "<div>\n",
       "<style scoped>\n",
       "    .dataframe tbody tr th:only-of-type {\n",
       "        vertical-align: middle;\n",
       "    }\n",
       "\n",
       "    .dataframe tbody tr th {\n",
       "        vertical-align: top;\n",
       "    }\n",
       "\n",
       "    .dataframe thead th {\n",
       "        text-align: right;\n",
       "    }\n",
       "</style>\n",
       "<table border=\"1\" class=\"dataframe\">\n",
       "  <thead>\n",
       "    <tr style=\"text-align: right;\">\n",
       "      <th></th>\n",
       "      <th>EventId</th>\n",
       "      <th>DER_mass_MMC</th>\n",
       "      <th>DER_mass_transverse_met_lep</th>\n",
       "      <th>DER_mass_vis</th>\n",
       "      <th>DER_pt_h</th>\n",
       "      <th>DER_deltaeta_jet_jet</th>\n",
       "      <th>DER_mass_jet_jet</th>\n",
       "      <th>DER_prodeta_jet_jet</th>\n",
       "      <th>DER_deltar_tau_lep</th>\n",
       "      <th>DER_pt_tot</th>\n",
       "      <th>...</th>\n",
       "      <th>PRI_jet_num</th>\n",
       "      <th>PRI_jet_leading_pt</th>\n",
       "      <th>PRI_jet_leading_eta</th>\n",
       "      <th>PRI_jet_leading_phi</th>\n",
       "      <th>PRI_jet_subleading_pt</th>\n",
       "      <th>PRI_jet_subleading_eta</th>\n",
       "      <th>PRI_jet_subleading_phi</th>\n",
       "      <th>PRI_jet_all_pt</th>\n",
       "      <th>Weight</th>\n",
       "      <th>Label</th>\n",
       "    </tr>\n",
       "  </thead>\n",
       "  <tbody>\n",
       "    <tr>\n",
       "      <th>0</th>\n",
       "      <td>100000</td>\n",
       "      <td>138.470</td>\n",
       "      <td>51.655</td>\n",
       "      <td>97.827</td>\n",
       "      <td>27.980</td>\n",
       "      <td>0.91</td>\n",
       "      <td>124.711</td>\n",
       "      <td>2.666</td>\n",
       "      <td>3.064</td>\n",
       "      <td>41.928</td>\n",
       "      <td>...</td>\n",
       "      <td>2</td>\n",
       "      <td>67.435</td>\n",
       "      <td>2.150</td>\n",
       "      <td>0.444</td>\n",
       "      <td>46.062</td>\n",
       "      <td>1.24</td>\n",
       "      <td>-2.475</td>\n",
       "      <td>113.497</td>\n",
       "      <td>0.002653</td>\n",
       "      <td>s</td>\n",
       "    </tr>\n",
       "    <tr>\n",
       "      <th>1</th>\n",
       "      <td>100001</td>\n",
       "      <td>160.937</td>\n",
       "      <td>68.768</td>\n",
       "      <td>103.235</td>\n",
       "      <td>48.146</td>\n",
       "      <td>-999.00</td>\n",
       "      <td>-999.000</td>\n",
       "      <td>-999.000</td>\n",
       "      <td>3.473</td>\n",
       "      <td>2.078</td>\n",
       "      <td>...</td>\n",
       "      <td>1</td>\n",
       "      <td>46.226</td>\n",
       "      <td>0.725</td>\n",
       "      <td>1.158</td>\n",
       "      <td>-999.000</td>\n",
       "      <td>-999.00</td>\n",
       "      <td>-999.000</td>\n",
       "      <td>46.226</td>\n",
       "      <td>2.233584</td>\n",
       "      <td>b</td>\n",
       "    </tr>\n",
       "    <tr>\n",
       "      <th>2</th>\n",
       "      <td>100002</td>\n",
       "      <td>-999.000</td>\n",
       "      <td>162.172</td>\n",
       "      <td>125.953</td>\n",
       "      <td>35.635</td>\n",
       "      <td>-999.00</td>\n",
       "      <td>-999.000</td>\n",
       "      <td>-999.000</td>\n",
       "      <td>3.148</td>\n",
       "      <td>9.336</td>\n",
       "      <td>...</td>\n",
       "      <td>1</td>\n",
       "      <td>44.251</td>\n",
       "      <td>2.053</td>\n",
       "      <td>-2.028</td>\n",
       "      <td>-999.000</td>\n",
       "      <td>-999.00</td>\n",
       "      <td>-999.000</td>\n",
       "      <td>44.251</td>\n",
       "      <td>2.347389</td>\n",
       "      <td>b</td>\n",
       "    </tr>\n",
       "    <tr>\n",
       "      <th>3</th>\n",
       "      <td>100003</td>\n",
       "      <td>143.905</td>\n",
       "      <td>81.417</td>\n",
       "      <td>80.943</td>\n",
       "      <td>0.414</td>\n",
       "      <td>-999.00</td>\n",
       "      <td>-999.000</td>\n",
       "      <td>-999.000</td>\n",
       "      <td>3.310</td>\n",
       "      <td>0.414</td>\n",
       "      <td>...</td>\n",
       "      <td>0</td>\n",
       "      <td>-999.000</td>\n",
       "      <td>-999.000</td>\n",
       "      <td>-999.000</td>\n",
       "      <td>-999.000</td>\n",
       "      <td>-999.00</td>\n",
       "      <td>-999.000</td>\n",
       "      <td>-0.000</td>\n",
       "      <td>5.446378</td>\n",
       "      <td>b</td>\n",
       "    </tr>\n",
       "    <tr>\n",
       "      <th>4</th>\n",
       "      <td>100004</td>\n",
       "      <td>175.864</td>\n",
       "      <td>16.915</td>\n",
       "      <td>134.805</td>\n",
       "      <td>16.405</td>\n",
       "      <td>-999.00</td>\n",
       "      <td>-999.000</td>\n",
       "      <td>-999.000</td>\n",
       "      <td>3.891</td>\n",
       "      <td>16.405</td>\n",
       "      <td>...</td>\n",
       "      <td>0</td>\n",
       "      <td>-999.000</td>\n",
       "      <td>-999.000</td>\n",
       "      <td>-999.000</td>\n",
       "      <td>-999.000</td>\n",
       "      <td>-999.00</td>\n",
       "      <td>-999.000</td>\n",
       "      <td>0.000</td>\n",
       "      <td>6.245333</td>\n",
       "      <td>b</td>\n",
       "    </tr>\n",
       "  </tbody>\n",
       "</table>\n",
       "<p>5 rows × 33 columns</p>\n",
       "</div>"
      ],
      "text/plain": [
       "   EventId  DER_mass_MMC  DER_mass_transverse_met_lep  DER_mass_vis  DER_pt_h   \n",
       "0   100000       138.470                       51.655        97.827    27.980  \\\n",
       "1   100001       160.937                       68.768       103.235    48.146   \n",
       "2   100002      -999.000                      162.172       125.953    35.635   \n",
       "3   100003       143.905                       81.417        80.943     0.414   \n",
       "4   100004       175.864                       16.915       134.805    16.405   \n",
       "\n",
       "   DER_deltaeta_jet_jet  DER_mass_jet_jet  DER_prodeta_jet_jet   \n",
       "0                  0.91           124.711                2.666  \\\n",
       "1               -999.00          -999.000             -999.000   \n",
       "2               -999.00          -999.000             -999.000   \n",
       "3               -999.00          -999.000             -999.000   \n",
       "4               -999.00          -999.000             -999.000   \n",
       "\n",
       "   DER_deltar_tau_lep  DER_pt_tot  ...  PRI_jet_num  PRI_jet_leading_pt   \n",
       "0               3.064      41.928  ...            2              67.435  \\\n",
       "1               3.473       2.078  ...            1              46.226   \n",
       "2               3.148       9.336  ...            1              44.251   \n",
       "3               3.310       0.414  ...            0            -999.000   \n",
       "4               3.891      16.405  ...            0            -999.000   \n",
       "\n",
       "   PRI_jet_leading_eta  PRI_jet_leading_phi  PRI_jet_subleading_pt   \n",
       "0                2.150                0.444                 46.062  \\\n",
       "1                0.725                1.158               -999.000   \n",
       "2                2.053               -2.028               -999.000   \n",
       "3             -999.000             -999.000               -999.000   \n",
       "4             -999.000             -999.000               -999.000   \n",
       "\n",
       "   PRI_jet_subleading_eta  PRI_jet_subleading_phi  PRI_jet_all_pt    Weight   \n",
       "0                    1.24                  -2.475         113.497  0.002653  \\\n",
       "1                 -999.00                -999.000          46.226  2.233584   \n",
       "2                 -999.00                -999.000          44.251  2.347389   \n",
       "3                 -999.00                -999.000          -0.000  5.446378   \n",
       "4                 -999.00                -999.000           0.000  6.245333   \n",
       "\n",
       "   Label  \n",
       "0      s  \n",
       "1      b  \n",
       "2      b  \n",
       "3      b  \n",
       "4      b  \n",
       "\n",
       "[5 rows x 33 columns]"
      ]
     },
     "execution_count": 3,
     "metadata": {},
     "output_type": "execute_result"
    }
   ],
   "source": [
    "# Loading the data\n",
    "data = pd.read_csv('training.zip')\n",
    "print(pd.Series({\"Memory usage\": \"{:.4f} MB\".format(data.memory_usage().sum()/(1024*1024)),\n",
    "                 \"Dataset shape\": \"{}\".format(data.shape)}).to_string())\n",
    "data.head()"
   ]
  },
  {
   "cell_type": "markdown",
   "id": "8420bf9d",
   "metadata": {},
   "source": [
    "# Preprocessing\n",
    "\n",
    "1. Data cleaning (dropping off unused and inconsistent columns)\n",
    "2. Splitting data into train and test\n",
    "3. Splitting datasets into features and target.\n",
    "4. Normalize data to ensure all columns expressed in the similar scale."
   ]
  },
  {
   "cell_type": "code",
   "execution_count": 4,
   "id": "369f8831",
   "metadata": {},
   "outputs": [],
   "source": [
    "# Dropping unnecessary columns\n",
    "data.drop(['EventId', 'Weight'], axis = 1, inplace = True)\n",
    "\n",
    "# Replacing -999 with nan\n",
    "data.replace(to_replace = -999, value = np.nan, inplace = True)\n",
    "\n",
    "# Encoding the 'Label' column\n",
    "label_dict = {'b': 0, 's': 1}\n",
    "data.replace({'Label': label_dict}, inplace = True)"
   ]
  },
  {
   "cell_type": "code",
   "execution_count": 5,
   "id": "5ec1508b",
   "metadata": {},
   "outputs": [],
   "source": [
    "# Train-test split\n",
    "data_train, data_test = train_test_split(data, test_size = 0.2, random_state = 40)"
   ]
  },
  {
   "cell_type": "code",
   "execution_count": 6,
   "id": "b359543c",
   "metadata": {},
   "outputs": [
    {
     "data": {
      "text/plain": [
       "DER_deltaeta_jet_jet      0.709828\n",
       "DER_mass_jet_jet          0.709828\n",
       "DER_prodeta_jet_jet       0.709828\n",
       "DER_lep_eta_centrality    0.709828\n",
       "PRI_jet_subleading_pt     0.709828\n",
       "PRI_jet_subleading_eta    0.709828\n",
       "PRI_jet_subleading_phi    0.709828\n",
       "PRI_jet_leading_pt        0.399652\n",
       "PRI_jet_leading_eta       0.399652\n",
       "PRI_jet_leading_phi       0.399652\n",
       "DER_mass_MMC              0.152456\n",
       "dtype: float64"
      ]
     },
     "execution_count": 6,
     "metadata": {},
     "output_type": "execute_result"
    }
   ],
   "source": [
    "# Columns with missing values with respective proportions\n",
    "(data.isna().sum()[data.isna().sum() > 0] / len(data)).sort_values(ascending = False)"
   ]
  },
  {
   "cell_type": "code",
   "execution_count": 7,
   "id": "f1569231",
   "metadata": {},
   "outputs": [],
   "source": [
    "# Discarding columns with more than 30% missing data\n",
    "cols_missing_drop = [\n",
    "    'DER_deltaeta_jet_jet',\n",
    "    'DER_mass_jet_jet',\n",
    "    'DER_prodeta_jet_jet',\n",
    "    'DER_lep_eta_centrality',\n",
    "    'PRI_jet_subleading_pt',\n",
    "    'PRI_jet_subleading_eta',\n",
    "    'PRI_jet_subleading_phi',\n",
    "    'PRI_jet_leading_pt',\n",
    "    'PRI_jet_leading_eta',\n",
    "    'PRI_jet_leading_phi'\n",
    "]\n",
    "data_train.drop(cols_missing_drop, axis = 1, inplace = True)\n",
    "data_test.drop(cols_missing_drop, axis = 1, inplace = True)\n",
    "\n",
    "# Median imputation\n",
    "data_train['DER_mass_MMC'].fillna(data_train['DER_mass_MMC'].median(), inplace = True)\n",
    "data_test['DER_mass_MMC'].fillna(data_test['DER_mass_MMC'].median(), inplace = True)"
   ]
  },
  {
   "cell_type": "code",
   "execution_count": 8,
   "id": "263c17a4",
   "metadata": {},
   "outputs": [],
   "source": [
    "# Features-target split\n",
    "X_train, y_train = data_train.drop('Label', axis = 1), data_train['Label']\n",
    "X_test, y_test = data_test.drop('Label', axis = 1), data_test['Label']"
   ]
  },
  {
   "cell_type": "code",
   "execution_count": 9,
   "id": "1c92fec6",
   "metadata": {},
   "outputs": [],
   "source": [
    "# Min-Max normalization\n",
    "for col in X_train.columns:\n",
    "    if (X_train[col].dtypes == 'int64' or X_train[col].dtypes == 'float64') and X_train[col].nunique() > 1:\n",
    "        X_train[col] = (X_train[col] - X_train[col].min()) / (X_train[col].max() - X_train[col].min())\n",
    "for col in X_test.columns:\n",
    "    if (X_test[col].dtypes == 'int64' or X_test[col].dtypes == 'float64') and X_test[col].nunique() > 1:\n",
    "        X_test[col] = (X_test[col] - X_test[col].min()) / (X_test[col].max() - X_test[col].min())"
   ]
  },
  {
   "cell_type": "markdown",
   "id": "ad2f7a98",
   "metadata": {},
   "source": [
    "# Model Fitting"
   ]
  },
  {
   "cell_type": "code",
   "execution_count": 10,
   "id": "f6c2011c",
   "metadata": {},
   "outputs": [
    {
     "data": {
      "application/vnd.jupyter.widget-view+json": {
       "model_id": "32c2a1d31815466ebfc8fa326140296b",
       "version_major": 2,
       "version_minor": 0
      },
      "text/plain": [
       "  0%|          | 0/500 [00:00<?, ?it/s]"
      ]
     },
     "metadata": {},
     "output_type": "display_data"
    },
    {
     "name": "stdout",
     "output_type": "stream",
     "text": [
      "Iteration      0:    Cost  0.5279\n",
      "Iteration     50:    Cost  0.5258\n",
      "Iteration    100:    Cost  0.5255\n",
      "Iteration    150:    Cost  0.5253\n",
      "Iteration    200:    Cost  0.5251\n",
      "Iteration    250:    Cost  0.5250\n",
      "Iteration    300:    Cost  0.5250\n",
      "Iteration    350:    Cost  0.5249\n",
      "Iteration    400:    Cost  0.5249\n",
      "Iteration    450:    Cost  0.5248\n",
      "Iteration    499:    Cost  0.5248\n"
     ]
    }
   ],
   "source": [
    "# Initial values of the model parameters\n",
    "w_init = np.array([-5, -15, -10, 9, 4, -6, 3, -10, 1, 14, 0, 0, 15, 0, 0, 7, 0, -3, 1, -8]).astype(float)\n",
    "b_init = -1.\n",
    "\n",
    "# Learning model parameters using gradient descent algorithm\n",
    "w_out, b_out, cost_history, params_history = grad_desc(X_train.to_numpy(),\n",
    "                                                       y_train.to_numpy(),\n",
    "                                                       w = w_init, # np.zeros(X_train.shape[1]),\n",
    "                                                       b = b_init, # 0,\n",
    "                                                       alpha = 0.1,\n",
    "                                                       n_iter = 500)"
   ]
  },
  {
   "cell_type": "code",
   "execution_count": 11,
   "id": "b1390fb4",
   "metadata": {},
   "outputs": [
    {
     "data": {
      "image/png": "[encoded data removed]",
      "text/plain": [
       "<Figure size 900x600 with 1 Axes>"
      ]
     },
     "metadata": {},
     "output_type": "display_data"
    }
   ],
   "source": [
    "# Plotting cost over iteration\n",
    "plt.figure(figsize = (9, 6))\n",
    "plt.plot(cost_history)\n",
    "plt.xlabel(\"Iteration\", fontsize = 14)\n",
    "plt.ylabel(\"Cost\", fontsize = 14)\n",
    "plt.title(\"Cost vs Iteration\", fontsize = 14)\n",
    "plt.tight_layout()\n",
    "plt.show()"
   ]
  },
  {
   "cell_type": "code",
   "execution_count": 12,
   "id": "0303a755",
   "metadata": {},
   "outputs": [
    {
     "data": {
      "text/plain": [
       "[array([-4.98663802e+00, -1.49893547e+01, -1.00137118e+01,  9.00126321e+00,\n",
       "         4.07988477e+00, -6.00355089e+00,  3.00338681e+00, -1.00243896e+01,\n",
       "         8.03705519e-01,  1.40044095e+01, -1.33894132e-02, -3.69298260e-03,\n",
       "         1.49857524e+01, -1.05902510e-02,  5.40126800e-03,  7.00889938e+00,\n",
       "         1.07459138e-02, -3.00072134e+00,  8.74589508e-01, -7.99360503e+00]),\n",
       " -1.0158158666502208]"
      ]
     },
     "execution_count": 12,
     "metadata": {},
     "output_type": "execute_result"
    }
   ],
   "source": [
    "# Final parameter values\n",
    "params_history[-1]"
   ]
  },
  {
   "cell_type": "markdown",
   "id": "152a50bb",
   "metadata": {},
   "source": [
    "# Prediction and Evaluation\n",
    "\n",
    "First, we construct some functions to compute and display the *confusion matrix*, and to compute *accuracy*, given the true labels and the predicted labels of the target."
   ]
  },
  {
   "cell_type": "code",
   "execution_count": 13,
   "id": "96de2f95",
   "metadata": {},
   "outputs": [],
   "source": [
    "# Function to compute confusion matrix\n",
    "def conf_mat(y_test, y_pred):\n",
    "    \"\"\"\n",
    "    Computes confusion matrix\n",
    "    Args:\n",
    "      y_test (array_like): true binary (0 or 1) labels\n",
    "      y_pred (array_like): predicted binary (0 or 1) labels\n",
    "    Returns:\n",
    "      confusion_mat (array): A 2D array representing a 2x2 confusion matrix\n",
    "    \"\"\"\n",
    "    y_test, y_pred = list(y_test), list(y_pred)\n",
    "    count, labels, confusion_mat = len(y_test), [0, 1], np.zeros(shape = (2, 2), dtype = int)\n",
    "    for i in range(2):\n",
    "        for j in range(2):\n",
    "            confusion_mat[i][j] = len([k for k in range(count) if y_test[k] == labels[i] and y_pred[k] == labels[j]])\n",
    "    return confusion_mat"
   ]
  },
  {
   "cell_type": "code",
   "execution_count": 14,
   "id": "a06c460c",
   "metadata": {},
   "outputs": [],
   "source": [
    "# Function to print confusion matrix\n",
    "def conf_mat_heatmap(y_test, y_pred):\n",
    "    \"\"\"\n",
    "    Prints confusion matrix\n",
    "    Args:\n",
    "      y_test (array_like): true binary (0 or 1) labels\n",
    "      y_pred (array_like): predicted binary (0 or 1) labels\n",
    "    Returns:\n",
    "      Nothing, prints a heatmap representing a 2x2 confusion matrix\n",
    "    \"\"\"\n",
    "    confusion_mat = conf_mat(y_test, y_pred)\n",
    "    labels, confusion_mat_df = [0, 1], pd.DataFrame(confusion_mat, range(2), range(2))\n",
    "    plt.figure(figsize = (6, 4.75))\n",
    "    sns.heatmap(confusion_mat_df, annot = True, annot_kws = {\"size\": 16}, fmt = 'd')\n",
    "    plt.xticks([0.5, 1.5], labels, rotation = 'horizontal')\n",
    "    plt.yticks([0.5, 1.5], labels, rotation = 'horizontal')\n",
    "    plt.xlabel(\"Predicted label\", fontsize = 14)\n",
    "    plt.ylabel(\"True label\", fontsize = 14)\n",
    "    plt.title(\"Confusion Matrix\", fontsize = 14)\n",
    "    plt.grid(False)\n",
    "    plt.show()"
   ]
  },
  {
   "cell_type": "code",
   "execution_count": 15,
   "id": "ff6ee303",
   "metadata": {},
   "outputs": [],
   "source": [
    "# Function to compute accuracy\n",
    "def accuracy(y_test, y_pred):\n",
    "    \"\"\"\n",
    "    Computes accuracy, given true and predicted binary (0 or 1) labels\n",
    "    Args:\n",
    "      y_test (array_like): true binary (0 or 1) labels\n",
    "      y_pred (array_like): predicted binary (0 or 1) labels\n",
    "    Returns:\n",
    "      acc (float): accuracy obtained from y_test and y_pred\n",
    "    \"\"\"\n",
    "    confusion_mat = conf_mat(y_test, y_pred)\n",
    "    num = confusion_mat[0, 0] + confusion_mat[1, 1] # Number of correct predictions\n",
    "    denom = num + confusion_mat[0, 1] + confusion_mat[1, 0] # Number of total predictions\n",
    "    acc = num / denom\n",
    "    return acc"
   ]
  },
  {
   "cell_type": "code",
   "execution_count": 18,
   "id": "cf2f5977",
   "metadata": {},
   "outputs": [
    {
     "name": "stdout",
     "output_type": "stream",
     "text": [
      "Training accuracy    0.72653\n",
      "Test accuracy        0.71922\n"
     ]
    }
   ],
   "source": [
    "# Prediction and evaluation on the training set and the test set\n",
    "y_train_prob = logistic(np.matmul(X_train.to_numpy(), w_out) + (b_out * np.ones(X_train.shape[0])))\n",
    "y_test_prob = logistic(np.matmul(X_test.to_numpy(), w_out) + (b_out * np.ones(X_test.shape[0])))\n",
    "y_train_pred, y_test_pred = (y_train_prob > 0.5).astype(int), (y_test_prob > 0.5).astype(int)\n",
    "print(pd.Series({\"Training accuracy\": accuracy(y_train, y_train_pred),\n",
    "                 \"Test accuracy\": accuracy(y_test, y_test_pred)}).to_string())"
   ]
  },
  {
   "cell_type": "code",
   "execution_count": 19,
   "id": "1f3a72a4",
   "metadata": {},
   "outputs": [
    {
     "data": {
      "image/png": "[encoded data removed]",
      "text/plain": [
       "<Figure size 600x475 with 2 Axes>"
      ]
     },
     "metadata": {},
     "output_type": "display_data"
    }
   ],
   "source": [
    "# Confusion matrix for predictions on the test set\n",
    "conf_mat_heatmap(y_test, y_test_pred)"
   ]
  },
  {
   "cell_type": "code",
   "execution_count": null,
   "id": "e72bcfde",
   "metadata": {},
   "outputs": [],
   "source": []
  }
 ],
 "metadata": {
  "kernelspec": {
   "display_name": "Python 3 (ipykernel)",
   "language": "python",
   "name": "python3"
  },
  "language_info": {
   "codemirror_mode": {
    "name": "ipython",
    "version": 3
   },
   "file_extension": ".py",
   "mimetype": "text/x-python",
   "name": "python",
   "nbconvert_exporter": "python",
   "pygments_lexer": "ipython3",
   "version": "3.10.10"
  }
 },
 "nbformat": 4,
 "nbformat_minor": 5
}
